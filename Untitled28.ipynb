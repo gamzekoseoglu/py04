{
  "nbformat": 4,
  "nbformat_minor": 0,
  "metadata": {
    "colab": {
      "provenance": [],
      "authorship_tag": "ABX9TyNgx9a/aTAjkZmtH5Oxrbw4",
      "include_colab_link": true
    },
    "kernelspec": {
      "name": "python3",
      "display_name": "Python 3"
    },
    "language_info": {
      "name": "python"
    }
  },
  "cells": [
    {
      "cell_type": "markdown",
      "metadata": {
        "id": "view-in-github",
        "colab_type": "text"
      },
      "source": [
        "<a href=\"https://colab.research.google.com/github/gamzekoseoglu/py04/blob/main/Untitled28.ipynb\" target=\"_parent\"><img src=\"https://colab.research.google.com/assets/colab-badge.svg\" alt=\"Open In Colab\"/></a>"
      ]
    },
    {
      "cell_type": "code",
      "execution_count": 1,
      "metadata": {
        "colab": {
          "base_uri": "https://localhost:8080/"
        },
        "id": "pH9cM2YsFYN4",
        "outputId": "0c415b14-3102-456a-eb3b-631d1815ded6"
      },
      "outputs": [
        {
          "output_type": "stream",
          "name": "stdout",
          "text": [
            "Model Doğruluğu: 0.9730337078651685\n"
          ]
        }
      ],
      "source": [
        "import pandas as pd\n",
        "from sklearn.model_selection import train_test_split\n",
        "from sklearn.feature_extraction.text import TfidfVectorizer\n",
        "from sklearn.svm import SVC\n",
        "from sklearn.metrics import accuracy_score\n",
        "\n",
        "# Veri setini yükleme\n",
        "veri = pd.read_csv('/content/yeni_veri_seti.csv')  # Veri setinin yolunu ve adını düzeltin\n",
        "\n",
        "# Giriş (X) ve çıkış (y) verilerini tanımlama\n",
        "X = veri['content']\n",
        "y = veri['category']\n",
        "\n",
        "# Verileri eğitim ve test setlerine bölmek\n",
        "X_train, X_test, y_train, y_test = train_test_split(X, y, test_size=0.2, random_state=42)\n",
        "\n",
        "# Metin verilerini sayısal vektörlere dönüştürme\n",
        "tfidf_vectorizer = TfidfVectorizer(max_features=5000)  # Özellik çıkarma için TF-IDF kullanma\n",
        "X_train_tfidf = tfidf_vectorizer.fit_transform(X_train)\n",
        "X_test_tfidf = tfidf_vectorizer.transform(X_test)\n",
        "\n",
        "# Model oluşturma ve eğitme (örneğin, Destek Vektör Makineleri - SVC)\n",
        "model = SVC(kernel='linear')\n",
        "model.fit(X_train_tfidf, y_train)\n",
        "\n",
        "# Modelin performansını değerlendirme\n",
        "y_pred = model.predict(X_test_tfidf)\n",
        "accuracy = accuracy_score(y_test, y_pred)\n",
        "print(f\"Model Doğruluğu: {accuracy}\")"
      ]
    },
    {
      "cell_type": "code",
      "source": [
        "def kategori_tahmini(metin):\n",
        "    metin_tfidf = tfidf_vectorizer.transform([metin])\n",
        "    tahmin = model.predict(metin_tfidf)\n",
        "    return tahmin[0]\n",
        "\n",
        "# Kullanıcıdan haber metni girişi alınması\n",
        "haber_metni = input(\"Lütfen bir haber metni girin: \")\n",
        "\n",
        "# Modelin tahmin yapması\n",
        "tahmin_kategori = kategori_tahmini(haber_metni)\n",
        "print(f\"Girilen haberin kategorisi tahmini: {tahmin_kategori}\")"
      ],
      "metadata": {
        "colab": {
          "base_uri": "https://localhost:8080/"
        },
        "id": "Yy4KG8DqHTjH",
        "outputId": "be462d34-b547-40fb-e47a-798c224c4f16"
      },
      "execution_count": 2,
      "outputs": [
        {
          "output_type": "stream",
          "name": "stdout",
          "text": [
            "Lütfen bir haber metni girin: \"The manager has passion and a vision for this project and that's why I came here,\" she said. \"The club has specific goals and plans, and everyone is following that philosophy.\"\n",
            "Girilen haberin kategorisi tahmini: sport\n"
          ]
        }
      ]
    }
  ]
}